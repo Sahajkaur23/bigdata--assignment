{
  "nbformat": 4,
  "nbformat_minor": 0,
  "metadata": {
    "colab": {
      "provenance": [],
      "authorship_tag": "ABX9TyPbB6OmB2nMeUt3SDVxIJv/",
      "include_colab_link": true
    },
    "kernelspec": {
      "name": "python3",
      "display_name": "Python 3"
    },
    "language_info": {
      "name": "python"
    }
  },
  "cells": [
    {
      "cell_type": "markdown",
      "metadata": {
        "id": "view-in-github",
        "colab_type": "text"
      },
      "source": [
        "<a href=\"https://colab.research.google.com/github/Sahajkaur23/bigdata--assignment/blob/main/202301053_ass2.ipynb\" target=\"_parent\"><img src=\"https://colab.research.google.com/assets/colab-badge.svg\" alt=\"Open In Colab\"/></a>"
      ]
    },
    {
      "cell_type": "code",
      "execution_count": 1,
      "metadata": {
        "colab": {
          "base_uri": "https://localhost:8080/"
        },
        "id": "zSVXJdyP5vVL",
        "outputId": "e3267e54-44bf-4419-a723-59b0952f5c56"
      },
      "outputs": [
        {
          "output_type": "stream",
          "name": "stdout",
          "text": [
            "[5 4 6 3 2 1]\n"
          ]
        }
      ],
      "source": [
        "import numpy as np\n",
        "arr = np.array([1, 2, 3, 6, 4, 5])\n",
        "reverse_arr = arr[::-1]\n",
        "print(reverse_arr)"
      ]
    },
    {
      "cell_type": "code",
      "source": [
        "import numpy as np\n",
        "arr1 = np.array([[1, 2], [3, 4]])\n",
        "arr2 = np.array([[1, 2], [3, 4]])\n",
        "if np.array_equal(arr1, arr2):\n",
        "    print(\"true\")\n",
        "else:\n",
        "    print(\"false\")\n",
        "\n",
        "\n",
        ""
      ],
      "metadata": {
        "colab": {
          "base_uri": "https://localhost:8080/"
        },
        "id": "LIDNP_ov6dPi",
        "outputId": "ac8bd772-2afe-4270-a8e7-38ceac36c289"
      },
      "execution_count": 2,
      "outputs": [
        {
          "output_type": "stream",
          "name": "stdout",
          "text": [
            "true\n"
          ]
        }
      ]
    },
    {
      "cell_type": "code",
      "source": [
        "import numpy as np\n",
        "x= np.array([1,2,3,4,5,1,2,1,1,1])\n",
        "freq_x = np.argmax(np.bincount(x))\n",
        "print(\"The most frequent value in x is\",freq_x)\n",
        "indices_x = np.where(x == freq_x)[0]\n",
        "print(\"The indices of the most frequent value in x are\", indices_x)\n",
        "y=np.array([1, 1, 1, 2, 3, 4, 2, 4, 3, 3, ])\n",
        "freq_y = np.argmax(np.bincount(y))\n",
        "print(\"The most frequent value in y is\",freq_y)\n",
        "indices_y = np.where(x == freq_y)[0]\n",
        "print(\"The indices of the most frequent value in x are\", indices_y)"
      ],
      "metadata": {
        "colab": {
          "base_uri": "https://localhost:8080/"
        },
        "id": "uXr1p3hs6gpD",
        "outputId": "e758449d-49d8-4b8f-c47b-de77efef9222"
      },
      "execution_count": 3,
      "outputs": [
        {
          "output_type": "stream",
          "name": "stdout",
          "text": [
            "The most frequent value in x is 1\n",
            "The indices of the most frequent value in x are [0 5 7 8 9]\n",
            "The most frequent value in y is 1\n",
            "The indices of the most frequent value in x are [0 5 7 8 9]\n"
          ]
        }
      ]
    },
    {
      "cell_type": "code",
      "source": [
        "import numpy as np\n",
        "gfg = np.matrix('[4, 1, 9; 12, 3, 1; 4, 5, 6]')\n",
        "row_sum = gfg.sum(axis=1)\n",
        "col_sum = gfg.sum(axis=0)\n",
        "print(row_sum)\n",
        "print(col_sum)\n",
        "\n"
      ],
      "metadata": {
        "colab": {
          "base_uri": "https://localhost:8080/"
        },
        "id": "BVDroyhA6kUW",
        "outputId": "1c1638f1-b5b2-4bd7-d301-138347b0627a"
      },
      "execution_count": 5,
      "outputs": [
        {
          "output_type": "stream",
          "name": "stdout",
          "text": [
            "[[14]\n",
            " [16]\n",
            " [15]]\n",
            "[[20  9 16]]\n"
          ]
        }
      ]
    }
  ]
}