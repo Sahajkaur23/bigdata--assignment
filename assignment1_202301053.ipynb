{
  "nbformat": 4,
  "nbformat_minor": 0,
  "metadata": {
    "colab": {
      "provenance": [],
      "authorship_tag": "ABX9TyOIQdXN4SNnYRS83y7X3a6W",
      "include_colab_link": true
    },
    "kernelspec": {
      "name": "python3",
      "display_name": "Python 3"
    },
    "language_info": {
      "name": "python"
    }
  },
  "cells": [
    {
      "cell_type": "markdown",
      "metadata": {
        "id": "view-in-github",
        "colab_type": "text"
      },
      "source": [
        "<a href=\"https://colab.research.google.com/github/Sahajkaur23/bigdata--assignment/blob/main/assignment1_202301053.ipynb\" target=\"_parent\"><img src=\"https://colab.research.google.com/assets/colab-badge.svg\" alt=\"Open In Colab\"/></a>"
      ]
    },
    {
      "cell_type": "code",
      "execution_count": null,
      "metadata": {
        "colab": {
          "base_uri": "https://localhost:8080/"
        },
        "id": "L2nHWAboTaIp",
        "outputId": "8c1d6f5c-f307-4895-d44f-d78351322e94"
      },
      "outputs": [
        {
          "output_type": "stream",
          "name": "stdout",
          "text": [
            "[5 4 6 3 2 1]\n"
          ]
        }
      ],
      "source": [
        "import numpy as np\n",
        "arr = np.array([1, 2, 3, 6, 4, 5])\n",
        "rev_arr=arr[::-1]\n",
        "print(rev_arr)"
      ]
    },
    {
      "cell_type": "code",
      "source": [],
      "metadata": {
        "id": "16wqidY-p_G5"
      },
      "execution_count": null,
      "outputs": []
    },
    {
      "cell_type": "code",
      "source": [],
      "metadata": {
        "id": "xcyjiWHyqVk6"
      },
      "execution_count": null,
      "outputs": []
    },
    {
      "cell_type": "code",
      "source": [
        "import numpy as np;\n",
        "\n",
        "arr1 = np.array([[1, 2], [3, 4]])\n",
        "arr2 = np.array([[1, 2], [3, 4]])\n",
        "compare=(np.array_equal(arr1,arr2))\n",
        "print(compare)"
      ],
      "metadata": {
        "colab": {
          "base_uri": "https://localhost:8080/"
        },
        "id": "M68PL1T5jzUx",
        "outputId": "3a2386c3-c3e8-42e7-b40c-aa43d8b3ceca"
      },
      "execution_count": null,
      "outputs": [
        {
          "output_type": "stream",
          "name": "stdout",
          "text": [
            "True\n"
          ]
        }
      ]
    },
    {
      "cell_type": "code",
      "source": [
        "x = np.array([1,2,3,4,5,1,2,1,1,1])\n",
        "count=np.bincount(x)\n",
        "freq_val=np.argmax(count)\n",
        "print(freq_val)\n",
        "\n",
        "indices=np.where(x==freq_val)[0]\n",
        "print(indices)\n",
        "\n",
        "\n",
        "y = np.array([1, 1, 1, 2, 3, 4, 2, 4, 3, 3, ])\n",
        "count1=np.bincount(y)\n",
        "freq_val1=np.argmax(count1)\n",
        "print(freq_val1)\n",
        "\n",
        "indice=np.where(y==freq_val1)[0]\n",
        "print(indice)\n"
      ],
      "metadata": {
        "colab": {
          "base_uri": "https://localhost:8080/"
        },
        "id": "I0hMgt82kc0B",
        "outputId": "50545823-7af8-4402-e178-d9fbc5b238a2"
      },
      "execution_count": null,
      "outputs": [
        {
          "output_type": "stream",
          "name": "stdout",
          "text": [
            "1\n",
            "[0 5 7 8 9]\n",
            "1\n",
            "[0 1 2]\n"
          ]
        }
      ]
    },
    {
      "cell_type": "code",
      "source": [
        "Matrix=np.matrix('[4, 1, 9; 12, 3, 1; 4, 5, 6]')\n",
        "print(np.sum(Matrix))\n",
        "\n",
        "row=np.sum(Matrix,axis=1)\n",
        "print(row)\n",
        "column=np.sum(Matrix,axis=0)\n",
        "print(column)\n"
      ],
      "metadata": {
        "colab": {
          "base_uri": "https://localhost:8080/"
        },
        "id": "goJMrBvJlOSN",
        "outputId": "12b67759-dae6-44f1-f931-1dbbb6f5364c"
      },
      "execution_count": null,
      "outputs": [
        {
          "output_type": "stream",
          "name": "stdout",
          "text": [
            "45\n",
            "[[14]\n",
            " [16]\n",
            " [15]]\n",
            "[[20  9 16]]\n"
          ]
        }
      ]
    }
  ]
}